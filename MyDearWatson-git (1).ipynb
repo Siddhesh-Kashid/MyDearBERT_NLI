{
 "cells": [
  {
   "cell_type": "code",
   "execution_count": null,
   "id": "10e7374c",
   "metadata": {},
   "outputs": [],
   "source": [
    "import tensorflow as tf\n",
    "import numpy as np\n",
    "import random\n",
    "from sklearn.model_selection import train_test_split\n",
    "from transformers import BertTokenizer\n",
    "import pandas as pd\n",
    "from transformers import TFBertModel\n",
    "import os\n",
    "import tensorflow_addons as tfa\n",
    "import keras_tuner as kt"
   ]
  },
  {
   "cell_type": "code",
   "execution_count": 1,
   "id": "5e510258",
   "metadata": {},
   "outputs": [
    {
     "name": "stdout",
     "output_type": "stream",
     "text": [
      "C:\\Users\\siddh\\Downloads\\train_watson.csv\n"
     ]
    },
    {
     "data": {
      "text/html": [
       "<div>\n",
       "<style scoped>\n",
       "    .dataframe tbody tr th:only-of-type {\n",
       "        vertical-align: middle;\n",
       "    }\n",
       "\n",
       "    .dataframe tbody tr th {\n",
       "        vertical-align: top;\n",
       "    }\n",
       "\n",
       "    .dataframe thead th {\n",
       "        text-align: right;\n",
       "    }\n",
       "</style>\n",
       "<table border=\"1\" class=\"dataframe\">\n",
       "  <thead>\n",
       "    <tr style=\"text-align: right;\">\n",
       "      <th></th>\n",
       "      <th>id</th>\n",
       "      <th>premise</th>\n",
       "      <th>hypothesis</th>\n",
       "      <th>lang_abv</th>\n",
       "      <th>language</th>\n",
       "      <th>label</th>\n",
       "    </tr>\n",
       "  </thead>\n",
       "  <tbody>\n",
       "    <tr>\n",
       "      <th>0</th>\n",
       "      <td>5130fd2cb5</td>\n",
       "      <td>and these comments were considered in formulat...</td>\n",
       "      <td>The rules developed in the interim were put to...</td>\n",
       "      <td>en</td>\n",
       "      <td>English</td>\n",
       "      <td>0</td>\n",
       "    </tr>\n",
       "    <tr>\n",
       "      <th>1</th>\n",
       "      <td>5b72532a0b</td>\n",
       "      <td>These are issues that we wrestle with in pract...</td>\n",
       "      <td>Practice groups are not permitted to work on t...</td>\n",
       "      <td>en</td>\n",
       "      <td>English</td>\n",
       "      <td>2</td>\n",
       "    </tr>\n",
       "    <tr>\n",
       "      <th>2</th>\n",
       "      <td>3931fbe82a</td>\n",
       "      <td>Des petites choses comme celles-là font une di...</td>\n",
       "      <td>J'essayais d'accomplir quelque chose.</td>\n",
       "      <td>fr</td>\n",
       "      <td>French</td>\n",
       "      <td>0</td>\n",
       "    </tr>\n",
       "    <tr>\n",
       "      <th>3</th>\n",
       "      <td>5622f0c60b</td>\n",
       "      <td>you know they can't really defend themselves l...</td>\n",
       "      <td>They can't defend themselves because of their ...</td>\n",
       "      <td>en</td>\n",
       "      <td>English</td>\n",
       "      <td>0</td>\n",
       "    </tr>\n",
       "    <tr>\n",
       "      <th>4</th>\n",
       "      <td>86aaa48b45</td>\n",
       "      <td>ในการเล่นบทบาทสมมุติก็เช่นกัน โอกาสที่จะได้แสด...</td>\n",
       "      <td>เด็กสามารถเห็นได้ว่าชาติพันธุ์แตกต่างกันอย่างไร</td>\n",
       "      <td>th</td>\n",
       "      <td>Thai</td>\n",
       "      <td>1</td>\n",
       "    </tr>\n",
       "    <tr>\n",
       "      <th>...</th>\n",
       "      <td>...</td>\n",
       "      <td>...</td>\n",
       "      <td>...</td>\n",
       "      <td>...</td>\n",
       "      <td>...</td>\n",
       "      <td>...</td>\n",
       "    </tr>\n",
       "    <tr>\n",
       "      <th>12115</th>\n",
       "      <td>2b78e2a914</td>\n",
       "      <td>The results of even the most well designed epi...</td>\n",
       "      <td>All studies have the same amount of uncertaint...</td>\n",
       "      <td>en</td>\n",
       "      <td>English</td>\n",
       "      <td>2</td>\n",
       "    </tr>\n",
       "    <tr>\n",
       "      <th>12116</th>\n",
       "      <td>7e9943d152</td>\n",
       "      <td>But there are two kinds of  the pleasure of do...</td>\n",
       "      <td>But there are two kinds of the pleasure of doi...</td>\n",
       "      <td>en</td>\n",
       "      <td>English</td>\n",
       "      <td>0</td>\n",
       "    </tr>\n",
       "    <tr>\n",
       "      <th>12117</th>\n",
       "      <td>5085923e6c</td>\n",
       "      <td>The important thing is to realize that it's wa...</td>\n",
       "      <td>It cannot be moved, now or ever.</td>\n",
       "      <td>en</td>\n",
       "      <td>English</td>\n",
       "      <td>2</td>\n",
       "    </tr>\n",
       "    <tr>\n",
       "      <th>12118</th>\n",
       "      <td>fc8e2fd1fe</td>\n",
       "      <td>At the west end is a detailed model of the who...</td>\n",
       "      <td>The model temple complex is at the east end.</td>\n",
       "      <td>en</td>\n",
       "      <td>English</td>\n",
       "      <td>2</td>\n",
       "    </tr>\n",
       "    <tr>\n",
       "      <th>12119</th>\n",
       "      <td>44301dfb14</td>\n",
       "      <td>For himself he chose Atat??rk, or Father of th...</td>\n",
       "      <td>Ataturk was the father of the Turkish nation.</td>\n",
       "      <td>en</td>\n",
       "      <td>English</td>\n",
       "      <td>0</td>\n",
       "    </tr>\n",
       "  </tbody>\n",
       "</table>\n",
       "<p>12120 rows × 6 columns</p>\n",
       "</div>"
      ],
      "text/plain": [
       "               id                                            premise  \\\n",
       "0      5130fd2cb5  and these comments were considered in formulat...   \n",
       "1      5b72532a0b  These are issues that we wrestle with in pract...   \n",
       "2      3931fbe82a  Des petites choses comme celles-là font une di...   \n",
       "3      5622f0c60b  you know they can't really defend themselves l...   \n",
       "4      86aaa48b45  ในการเล่นบทบาทสมมุติก็เช่นกัน โอกาสที่จะได้แสด...   \n",
       "...           ...                                                ...   \n",
       "12115  2b78e2a914  The results of even the most well designed epi...   \n",
       "12116  7e9943d152  But there are two kinds of  the pleasure of do...   \n",
       "12117  5085923e6c  The important thing is to realize that it's wa...   \n",
       "12118  fc8e2fd1fe  At the west end is a detailed model of the who...   \n",
       "12119  44301dfb14  For himself he chose Atat??rk, or Father of th...   \n",
       "\n",
       "                                              hypothesis lang_abv language  \\\n",
       "0      The rules developed in the interim were put to...       en  English   \n",
       "1      Practice groups are not permitted to work on t...       en  English   \n",
       "2                  J'essayais d'accomplir quelque chose.       fr   French   \n",
       "3      They can't defend themselves because of their ...       en  English   \n",
       "4        เด็กสามารถเห็นได้ว่าชาติพันธุ์แตกต่างกันอย่างไร       th     Thai   \n",
       "...                                                  ...      ...      ...   \n",
       "12115  All studies have the same amount of uncertaint...       en  English   \n",
       "12116  But there are two kinds of the pleasure of doi...       en  English   \n",
       "12117                   It cannot be moved, now or ever.       en  English   \n",
       "12118       The model temple complex is at the east end.       en  English   \n",
       "12119      Ataturk was the father of the Turkish nation.       en  English   \n",
       "\n",
       "       label  \n",
       "0          0  \n",
       "1          2  \n",
       "2          0  \n",
       "3          0  \n",
       "4          1  \n",
       "...      ...  \n",
       "12115      2  \n",
       "12116      0  \n",
       "12117      2  \n",
       "12118      2  \n",
       "12119      0  \n",
       "\n",
       "[12120 rows x 6 columns]"
      ]
     },
     "execution_count": 1,
     "metadata": {},
     "output_type": "execute_result"
    }
   ],
   "source": [
    "%cd \"C:\\Users\\siddh\\Downloads\\train_watson.csv\"\n",
    "train_df = pd.read_csv(\"train.csv\")a\n",
    "train_df"
   ]
  },
  {
   "cell_type": "code",
   "execution_count": 2,
   "id": "f8a0d0e9",
   "metadata": {},
   "outputs": [
    {
     "name": "stdout",
     "output_type": "stream",
     "text": [
      "C:\\Users\\siddh\\Downloads\\test.csv~\n"
     ]
    },
    {
     "data": {
      "text/html": [
       "<div>\n",
       "<style scoped>\n",
       "    .dataframe tbody tr th:only-of-type {\n",
       "        vertical-align: middle;\n",
       "    }\n",
       "\n",
       "    .dataframe tbody tr th {\n",
       "        vertical-align: top;\n",
       "    }\n",
       "\n",
       "    .dataframe thead th {\n",
       "        text-align: right;\n",
       "    }\n",
       "</style>\n",
       "<table border=\"1\" class=\"dataframe\">\n",
       "  <thead>\n",
       "    <tr style=\"text-align: right;\">\n",
       "      <th></th>\n",
       "      <th>id</th>\n",
       "      <th>premise</th>\n",
       "      <th>hypothesis</th>\n",
       "      <th>lang_abv</th>\n",
       "      <th>language</th>\n",
       "    </tr>\n",
       "  </thead>\n",
       "  <tbody>\n",
       "    <tr>\n",
       "      <th>0</th>\n",
       "      <td>c6d58c3f69</td>\n",
       "      <td>بکس، کیسی، راہیل، یسعیاہ، کیلی، کیلی، اور کولم...</td>\n",
       "      <td>کیسی کے لئے کوئی یادگار نہیں ہوگا, کولمین ہائی...</td>\n",
       "      <td>ur</td>\n",
       "      <td>Urdu</td>\n",
       "    </tr>\n",
       "    <tr>\n",
       "      <th>1</th>\n",
       "      <td>cefcc82292</td>\n",
       "      <td>هذا هو ما تم نصحنا به.</td>\n",
       "      <td>عندما يتم إخبارهم بما يجب عليهم فعله ، فشلت ال...</td>\n",
       "      <td>ar</td>\n",
       "      <td>Arabic</td>\n",
       "    </tr>\n",
       "    <tr>\n",
       "      <th>2</th>\n",
       "      <td>e98005252c</td>\n",
       "      <td>et cela est en grande partie dû au fait que le...</td>\n",
       "      <td>Les mères se droguent.</td>\n",
       "      <td>fr</td>\n",
       "      <td>French</td>\n",
       "    </tr>\n",
       "    <tr>\n",
       "      <th>3</th>\n",
       "      <td>58518c10ba</td>\n",
       "      <td>与城市及其他公民及社区组织代表就IMA的艺术发展进行对话&amp;amp</td>\n",
       "      <td>IMA与其他组织合作，因为它们都依靠共享资金。</td>\n",
       "      <td>zh</td>\n",
       "      <td>Chinese</td>\n",
       "    </tr>\n",
       "    <tr>\n",
       "      <th>4</th>\n",
       "      <td>c32b0d16df</td>\n",
       "      <td>Она все еще была там.</td>\n",
       "      <td>Мы думали, что она ушла, однако, она осталась.</td>\n",
       "      <td>ru</td>\n",
       "      <td>Russian</td>\n",
       "    </tr>\n",
       "    <tr>\n",
       "      <th>...</th>\n",
       "      <td>...</td>\n",
       "      <td>...</td>\n",
       "      <td>...</td>\n",
       "      <td>...</td>\n",
       "      <td>...</td>\n",
       "    </tr>\n",
       "    <tr>\n",
       "      <th>5190</th>\n",
       "      <td>5f90dd59b0</td>\n",
       "      <td>نیند نے وعدہ کیا کہ موٹل نے سوال میں تحقیق کی.</td>\n",
       "      <td>نیمیتھ کو موٹل کی تفتیش کے لئے معاوضہ دیا جارہ...</td>\n",
       "      <td>ur</td>\n",
       "      <td>Urdu</td>\n",
       "    </tr>\n",
       "    <tr>\n",
       "      <th>5191</th>\n",
       "      <td>f357a04e86</td>\n",
       "      <td>The  rock  has a soft texture and can be bough...</td>\n",
       "      <td>The rock is harder than most types of rock.</td>\n",
       "      <td>en</td>\n",
       "      <td>English</td>\n",
       "    </tr>\n",
       "    <tr>\n",
       "      <th>5192</th>\n",
       "      <td>1f0ea92118</td>\n",
       "      <td>她目前的存在，并考虑到他与沃佛斯顿争执的本质，那是尴尬的。</td>\n",
       "      <td>她在与Wolverstone的打斗结束后才在场的事实被看作是很尴尬的。</td>\n",
       "      <td>zh</td>\n",
       "      <td>Chinese</td>\n",
       "    </tr>\n",
       "    <tr>\n",
       "      <th>5193</th>\n",
       "      <td>0407b48afb</td>\n",
       "      <td>isn't it i can remember i've only been here ei...</td>\n",
       "      <td>I could see downtown Dallas from where I lived...</td>\n",
       "      <td>en</td>\n",
       "      <td>English</td>\n",
       "    </tr>\n",
       "    <tr>\n",
       "      <th>5194</th>\n",
       "      <td>16c2f2ab89</td>\n",
       "      <td>In Hong Kong you can have a plate, or even a w...</td>\n",
       "      <td>It's impossible to have a plate hand-painted t...</td>\n",
       "      <td>en</td>\n",
       "      <td>English</td>\n",
       "    </tr>\n",
       "  </tbody>\n",
       "</table>\n",
       "<p>5195 rows × 5 columns</p>\n",
       "</div>"
      ],
      "text/plain": [
       "              id                                            premise  \\\n",
       "0     c6d58c3f69  بکس، کیسی، راہیل، یسعیاہ، کیلی، کیلی، اور کولم...   \n",
       "1     cefcc82292                             هذا هو ما تم نصحنا به.   \n",
       "2     e98005252c  et cela est en grande partie dû au fait que le...   \n",
       "3     58518c10ba                   与城市及其他公民及社区组织代表就IMA的艺术发展进行对话&amp   \n",
       "4     c32b0d16df                              Она все еще была там.   \n",
       "...          ...                                                ...   \n",
       "5190  5f90dd59b0     نیند نے وعدہ کیا کہ موٹل نے سوال میں تحقیق کی.   \n",
       "5191  f357a04e86  The  rock  has a soft texture and can be bough...   \n",
       "5192  1f0ea92118                      她目前的存在，并考虑到他与沃佛斯顿争执的本质，那是尴尬的。   \n",
       "5193  0407b48afb  isn't it i can remember i've only been here ei...   \n",
       "5194  16c2f2ab89  In Hong Kong you can have a plate, or even a w...   \n",
       "\n",
       "                                             hypothesis lang_abv language  \n",
       "0     کیسی کے لئے کوئی یادگار نہیں ہوگا, کولمین ہائی...       ur     Urdu  \n",
       "1     عندما يتم إخبارهم بما يجب عليهم فعله ، فشلت ال...       ar   Arabic  \n",
       "2                                Les mères se droguent.       fr   French  \n",
       "3                               IMA与其他组织合作，因为它们都依靠共享资金。       zh  Chinese  \n",
       "4        Мы думали, что она ушла, однако, она осталась.       ru  Russian  \n",
       "...                                                 ...      ...      ...  \n",
       "5190  نیمیتھ کو موٹل کی تفتیش کے لئے معاوضہ دیا جارہ...       ur     Urdu  \n",
       "5191        The rock is harder than most types of rock.       en  English  \n",
       "5192                她在与Wolverstone的打斗结束后才在场的事实被看作是很尴尬的。       zh  Chinese  \n",
       "5193  I could see downtown Dallas from where I lived...       en  English  \n",
       "5194  It's impossible to have a plate hand-painted t...       en  English  \n",
       "\n",
       "[5195 rows x 5 columns]"
      ]
     },
     "execution_count": 2,
     "metadata": {},
     "output_type": "execute_result"
    }
   ],
   "source": [
    "%cd \"C:\\Users\\siddh\\Downloads\\test.csv~\"\n",
    "test_df = pd.read_csv(\"test.csv\")\n",
    "test_df"
   ]
  },
  {
   "cell_type": "code",
   "execution_count": 3,
   "id": "c99cfcb0",
   "metadata": {},
   "outputs": [
    {
     "data": {
      "text/plain": [
       "0    4176\n",
       "2    4064\n",
       "1    3880\n",
       "Name: label, dtype: int64"
      ]
     },
     "execution_count": 3,
     "metadata": {},
     "output_type": "execute_result"
    }
   ],
   "source": [
    "train_df.label.value_counts()"
   ]
  },
  {
   "cell_type": "code",
   "execution_count": 1,
   "id": "74825012",
   "metadata": {},
   "outputs": [],
   "source": [
    "classes = [\"entailment\",\"neutral\",\"contradiction\"]"
   ]
  },
  {
   "cell_type": "code",
   "execution_count": 4,
   "id": "7c03306e",
   "metadata": {},
   "outputs": [
    {
     "name": "stdout",
     "output_type": "stream",
     "text": [
      "label: 1 {neutral}\n",
      "-> Premise: Ouais, eh bien, le mec est là.\n",
      "-> Hypothesis: Le type est arrivé il y a deux minutes.\n",
      "\n",
      "------------------------------ \n",
      "\n",
      "label: 0 {entailment}\n",
      "-> Premise: con thứ hai mà cô ấy có là một trong những chú chó từ đống rác và ừ là con đực từng có vấn đề về răng\n",
      "-> Hypothesis: Người đàn ông có vấn đề về răng và con chó con thứ hai  từ bãi rác.\n",
      "\n",
      "------------------------------ \n",
      "\n",
      "label: 1 {neutral}\n",
      "-> Premise: And these are tough times for reviewers in general.\n",
      "-> Hypothesis: Specialist reviewers or reviewers with seniority are having an easier time of it.\n",
      "\n",
      "------------------------------ \n",
      "\n",
      "label: 2 {contradictory}\n",
      "-> Premise: 'It's that kind of world.'\n",
      "-> Hypothesis: This was unusual for the world.\n",
      "\n",
      "------------------------------ \n",
      "\n",
      "label: 0 {entailment}\n",
      "-> Premise: 6See also Internal Control Management and Evaluation Tool (GAO-01-1008G, August 2001).\n",
      "-> Hypothesis: The tool for control management.\n",
      "\n",
      "------------------------------ \n",
      "\n"
     ]
    }
   ],
   "source": [
    "random_index = random.randint(0,len(train_df)-5)    # create random index not more than \n",
    "for row in train_df[[\"premise\",\"hypothesis\",\"label\"]][random_index:random_index+5].itertuples():\n",
    "    _, premise, hypothesis, label = row    # _ is to get rid of index\n",
    "    \n",
    "    if label == 0: print(f\"label: {label}\", \"{entailment}\")\n",
    "    elif label == 1: print(f\"label: {label}\", \"{neutral}\")\n",
    "    elif label == 2: print(f\"label: {label}\", \"{contradictory}\")\n",
    "    print(f\"-> Premise: {premise}\\n-> Hypothesis: {hypothesis}\\n\")\n",
    "    print(\"-\"*30,\"\\n\")"
   ]
  },
  {
   "cell_type": "code",
   "execution_count": 5,
   "id": "da019df4",
   "metadata": {},
   "outputs": [
    {
     "name": "stderr",
     "output_type": "stream",
     "text": [
      "C:\\Users\\siddh\\anaconda3\\envs\\tf_gpu\\lib\\site-packages\\scipy\\__init__.py:146: UserWarning: A NumPy version >=1.16.5 and <1.23.0 is required for this version of SciPy (detected version 1.23.1\n",
      "  warnings.warn(f\"A NumPy version >={np_minversion} and <{np_maxversion}\"\n"
     ]
    }
   ],
   "source": [
    "train_data, test_data, train_labels, test_labels = train_test_split(train_df[[\"premise\",\"hypothesis\"]].to_numpy(),\n",
    "                                                                    train_df[\"label\"].to_numpy(),\n",
    "                                                                    test_size = 0.1,\n",
    "                                                                    random_state = 42)"
   ]
  },
  {
   "cell_type": "code",
   "execution_count": 6,
   "id": "af3f2826",
   "metadata": {},
   "outputs": [
    {
     "data": {
      "text/plain": [
       "(array([\"No, I don't know. \", 'Yes, I know.'], dtype=object), 2)"
      ]
     },
     "execution_count": 6,
     "metadata": {},
     "output_type": "execute_result"
    }
   ],
   "source": [
    "train_data[0], train_labels[0]"
   ]
  },
  {
   "cell_type": "code",
   "execution_count": 13,
   "id": "656eb8b0",
   "metadata": {},
   "outputs": [],
   "source": [
    "tokenizer = BertTokenizer.from_pretrained('bert-base-multilingual-uncased')\n",
    "\n",
    "def encode_sentence(s):\n",
    "    tokens = list(tokenizer.tokenize(s))\n",
    "    tokens.append('[SEP]')\n",
    "    return tokenizer.convert_tokens_to_ids(tokens)"
   ]
  },
  {
   "cell_type": "code",
   "execution_count": 14,
   "id": "76f382dd",
   "metadata": {},
   "outputs": [
    {
     "name": "stdout",
     "output_type": "stream",
     "text": [
      "Original sentence: and these comments were considered in formulating the interim rules.\n",
      "\n",
      "Tokenized sentence: [10110, 11269, 49602, 10342, 14553, 10104, 14751, 12305, 10103, 42733, 18634, 119, 102]\n"
     ]
    }
   ],
   "source": [
    "# Testing the tokenize function\n",
    "\n",
    "print('Original sentence: ' + train_df.premise[0] + '\\n')\n",
    "print('Tokenized sentence: ' + str(encode_sentence(train_df.premise[0])))"
   ]
  },
  {
   "cell_type": "code",
   "execution_count": 15,
   "id": "72fd093e",
   "metadata": {},
   "outputs": [],
   "source": [
    "# Encode data for the bert model with a max length of 100\n",
    "\n",
    "def bert_encode(hypotheses, premises, tokenizer, max_length=100):\n",
    "\n",
    "    x = [h + ' [SEP] ' + p for h, p in zip(np.array(hypotheses), np.array(premises))]\n",
    "    x = tokenizer(x, padding=True, truncation=True, max_length=max_length)\n",
    "\n",
    "    inputs = {\n",
    "          'input_word_ids':tf.ragged.constant(x['input_ids']).to_tensor(),\n",
    "          'input_mask': tf.ragged.constant(x['attention_mask']).to_tensor(),\n",
    "          'input_type_ids': tf.ragged.constant(x['token_type_ids']).to_tensor()}\n",
    "\n",
    "    return inputs"
   ]
  },
  {
   "cell_type": "code",
   "execution_count": 17,
   "id": "4e61b59c",
   "metadata": {},
   "outputs": [
    {
     "data": {
      "text/plain": [
       "{'input_word_ids': <tf.Tensor: shape=(12120, 100), dtype=int32, numpy=\n",
       " array([[  101, 10110, 11269, ...,     0,     0,     0],\n",
       "        [  101, 11269, 10320, ...,     0,     0,     0],\n",
       "        [  101, 10143, 29761, ...,     0,     0,     0],\n",
       "        ...,\n",
       "        [  101, 10103, 12652, ...,     0,     0,     0],\n",
       "        [  101, 10160, 10103, ...,     0,     0,     0],\n",
       "        [  101, 10139, 14885, ...,     0,     0,     0]])>,\n",
       " 'input_mask': <tf.Tensor: shape=(12120, 100), dtype=int32, numpy=\n",
       " array([[1, 1, 1, ..., 0, 0, 0],\n",
       "        [1, 1, 1, ..., 0, 0, 0],\n",
       "        [1, 1, 1, ..., 0, 0, 0],\n",
       "        ...,\n",
       "        [1, 1, 1, ..., 0, 0, 0],\n",
       "        [1, 1, 1, ..., 0, 0, 0],\n",
       "        [1, 1, 1, ..., 0, 0, 0]])>,\n",
       " 'input_type_ids': <tf.Tensor: shape=(12120, 100), dtype=int32, numpy=\n",
       " array([[0, 0, 0, ..., 0, 0, 0],\n",
       "        [0, 0, 0, ..., 0, 0, 0],\n",
       "        [0, 0, 0, ..., 0, 0, 0],\n",
       "        ...,\n",
       "        [0, 0, 0, ..., 0, 0, 0],\n",
       "        [0, 0, 0, ..., 0, 0, 0],\n",
       "        [0, 0, 0, ..., 0, 0, 0]])>}"
      ]
     },
     "execution_count": 17,
     "metadata": {},
     "output_type": "execute_result"
    }
   ],
   "source": [
    "train_input = bert_encode(train_df.premise.values, train_df.hypothesis.values, tokenizer)\n",
    "\n",
    "train_input"
   ]
  },
  {
   "cell_type": "code",
   "execution_count": 18,
   "id": "ffa64588",
   "metadata": {},
   "outputs": [
    {
     "data": {
      "text/plain": [
       "{'input_word_ids': <tf.Tensor: shape=(5195, 100), dtype=int32, numpy=\n",
       " array([[  101,   452, 28821, ...,     0,     0,     0],\n",
       "        [  101, 13812, 12153, ...,     0,     0,     0],\n",
       "        [  101, 10137, 17779, ...,     0,     0,     0],\n",
       "        ...,\n",
       "        [  101,  3018,  6017, ...,     0,     0,     0],\n",
       "        [  101, 65148,   112, ...,     0,     0,     0],\n",
       "        [  101, 10104, 14001, ...,     0,     0,     0]])>,\n",
       " 'input_mask': <tf.Tensor: shape=(5195, 100), dtype=int32, numpy=\n",
       " array([[1, 1, 1, ..., 0, 0, 0],\n",
       "        [1, 1, 1, ..., 0, 0, 0],\n",
       "        [1, 1, 1, ..., 0, 0, 0],\n",
       "        ...,\n",
       "        [1, 1, 1, ..., 0, 0, 0],\n",
       "        [1, 1, 1, ..., 0, 0, 0],\n",
       "        [1, 1, 1, ..., 0, 0, 0]])>,\n",
       " 'input_type_ids': <tf.Tensor: shape=(5195, 100), dtype=int32, numpy=\n",
       " array([[0, 0, 0, ..., 0, 0, 0],\n",
       "        [0, 0, 0, ..., 0, 0, 0],\n",
       "        [0, 0, 0, ..., 0, 0, 0],\n",
       "        ...,\n",
       "        [0, 0, 0, ..., 0, 0, 0],\n",
       "        [0, 0, 0, ..., 0, 0, 0],\n",
       "        [0, 0, 0, ..., 0, 0, 0]])>}"
      ]
     },
     "execution_count": 18,
     "metadata": {},
     "output_type": "execute_result"
    }
   ],
   "source": [
    "test_input = bert_encode(test_df.premise.values, test_df.hypothesis.values, tokenizer)\n",
    "\n",
    "test_input"
   ]
  },
  {
   "cell_type": "code",
   "execution_count": 19,
   "id": "678b3286",
   "metadata": {},
   "outputs": [
    {
     "name": "stdout",
     "output_type": "stream",
     "text": [
      "Number of replicas: 1\n"
     ]
    }
   ],
   "source": [
    "# Enable TPU for faster training\n",
    "\n",
    "try:\n",
    "    tpu = tf.distribute.cluster_resolver.TPUClusterResolver()\n",
    "    tf.config.experimental_connect_to_cluster(tpu)\n",
    "    tf.tpu.experimental.initialize_tpu_system(tpu)\n",
    "    strategy = tf.distribute.experimental.TPUStrategy(tpu)\n",
    "except ValueError:\n",
    "    strategy = tf.distribute.get_strategy() # for CPU and single GPU\n",
    "    print('Number of replicas:', strategy.num_replicas_in_sync)"
   ]
  },
  {
   "cell_type": "code",
   "execution_count": 20,
   "id": "e2273a9b",
   "metadata": {},
   "outputs": [
    {
     "name": "stderr",
     "output_type": "stream",
     "text": [
      "Some layers from the model checkpoint at bert-base-multilingual-cased were not used when initializing TFBertModel: ['mlm___cls', 'nsp___cls']\n",
      "- This IS expected if you are initializing TFBertModel from the checkpoint of a model trained on another task or with another architecture (e.g. initializing a BertForSequenceClassification model from a BertForPreTraining model).\n",
      "- This IS NOT expected if you are initializing TFBertModel from the checkpoint of a model that you expect to be exactly identical (initializing a BertForSequenceClassification model from a BertForSequenceClassification model).\n",
      "All the layers of TFBertModel were initialized from the model checkpoint at bert-base-multilingual-cased.\n",
      "If your task is similar to the task the model of the checkpoint was trained on, you can already use TFBertModel for predictions without further training.\n"
     ]
    }
   ],
   "source": [
    "#from official.nlp import optimization\n",
    "os.environ[\"WANDB_API_KEY\"] = \"0\" # to silence warning...sometimes :D\n",
    "\n",
    "max_len = 100\n",
    "bert_encoder = TFBertModel.from_pretrained('bert-base-multilingual-cased')"
   ]
  },
  {
   "cell_type": "code",
   "execution_count": 21,
   "id": "f86e0e88",
   "metadata": {},
   "outputs": [],
   "source": [
    "def build_model(hp,base_model=bert_encoder):\n",
    "    '''\n",
    "    Keras tunes model using bert_encoder(base_multilingual_cased) and finding out the optimal hyperparameters\n",
    "    '''\n",
    "    base_model.trainable = False\n",
    "    \n",
    "# INPUTS\n",
    "    input_word_ids = tf.keras.Input(shape=(max_len,),dtype=tf.int32, name=\"input_word_ids\")\n",
    "    input_mask = tf.keras.Input(shape=(max_len,),dtype=tf.int32, name=\"input_mask\")\n",
    "    input_type_ids = tf.keras.Input(shape=(max_len,),dtype=tf.int32, name=\"input_type_ids\")\n",
    "    \n",
    "    x = base_model([input_word_ids, input_mask, input_type_ids])[0]\n",
    "    x = tf.keras.layers.LSTM(units=hp.Int('lstm_', min_value=50, max_value=100), return_sequences=True)(x)\n",
    "    for i in range(hp.Int('num_dense_layers', 1, 5)):\n",
    "        x = tf.keras.layers.Dropout(hp.Choice('dropout_', values=[0.0, 0.1, 0.2]))(x)\n",
    "        x = tf.keras.layers.Dense(units=hp.Int('dense_', min_value=50, max_value=100), activation='relu')(x)\n",
    "\n",
    "# OUTPUT\n",
    "    output = tf.keras.layers.Dense(3, activation='softmax')(x[:,0,:])\n",
    "\n",
    "# BUILD THE FRAMEWORK\n",
    "    model = tf.keras.Model(inputs=[input_word_ids, input_mask, input_type_ids], outputs=output)\n",
    "\n",
    "# OPTIMIZER\n",
    "    step = tf.Variable(0, trainable=True)\n",
    "    schedule = tf.optimizers.schedules.PiecewiseConstantDecay(\n",
    "    [5000, 7500,10000,12500], [1e-0, 5e-1, 1e-1, 5e-2,1e-2])\n",
    "    lr = 1e-3 * schedule(step)\n",
    "    wd = lambda: 1e-4 * schedule(step)\n",
    "\n",
    "    optimizer = tfa.optimizers.AdamW(learning_rate=lr, weight_decay=wd)\n",
    "\n",
    "# COMPILE\n",
    "    model.compile(optimizer=optimizer, \n",
    "                  loss= tf.keras.losses.SparseCategoricalCrossentropy(), \n",
    "                  metrics=[\"accuracy\",f1])\n",
    "    \n",
    "    return model"
   ]
  },
  {
   "cell_type": "code",
   "execution_count": 26,
   "id": "c8609c40",
   "metadata": {
    "scrolled": false
   },
   "outputs": [
    {
     "name": "stdout",
     "output_type": "stream",
     "text": [
      "Trial 5 Complete [00h 09m 46s]\n",
      "val_loss: 1.0387625694274902\n",
      "\n",
      "Best val_loss So Far: 1.0330836772918701\n",
      "Total elapsed time: 00h 48m 58s\n",
      "INFO:tensorflow:Oracle triggered exit\n"
     ]
    }
   ],
   "source": [
    "# train BERT model\n",
    "\n",
    "tuner = kt.tuners.BayesianOptimization(build_model,\n",
    "                                        seed=42,\n",
    "                                        objective='val_loss',\n",
    "                                        max_trials=5,\n",
    "                                        directory='.',\n",
    "                                        project_name = \"My_dear_Watson1\")\n",
    "\n",
    "tuner.search(train_input,\n",
    "            train_df.label.values,\n",
    "            epochs = 12,\n",
    "            verbose = 1,\n",
    "            batch_size = 64,\n",
    "            validation_split = 0.25)"
   ]
  },
  {
   "cell_type": "code",
   "execution_count": 3,
   "id": "b2ec5423",
   "metadata": {},
   "outputs": [
    {
     "ename": "NameError",
     "evalue": "name 'tuner' is not defined",
     "output_type": "error",
     "traceback": [
      "\u001b[1;31m---------------------------------------------------------------------------\u001b[0m",
      "\u001b[1;31mNameError\u001b[0m                                 Traceback (most recent call last)",
      "Input \u001b[1;32mIn [3]\u001b[0m, in \u001b[0;36m<cell line: 1>\u001b[1;34m()\u001b[0m\n\u001b[1;32m----> 1\u001b[0m best_model \u001b[38;5;241m=\u001b[39m \u001b[43mtuner\u001b[49m\u001b[38;5;241m.\u001b[39mget_best_models(\u001b[38;5;241m1\u001b[39m)[\u001b[38;5;241m0\u001b[39m]\n\u001b[0;32m      2\u001b[0m best_model\u001b[38;5;241m.\u001b[39msummary()\n",
      "\u001b[1;31mNameError\u001b[0m: name 'tuner' is not defined"
     ]
    }
   ],
   "source": [
    "best_model = tuner.get_best_models(1)[0]\n",
    "best_model.summary()"
   ]
  },
  {
   "cell_type": "code",
   "execution_count": null,
   "id": "6535f333",
   "metadata": {},
   "outputs": [],
   "source": [
    "for layer_number, layer in enumerate(best_model.layers):\n",
    "    print(f\"{layer_number}  {layer.name} : {layer.trainable}\")"
   ]
  },
  {
   "cell_type": "code",
   "execution_count": 29,
   "id": "dc008527",
   "metadata": {},
   "outputs": [
    {
     "data": {
      "text/plain": [
       "<keras_tuner.engine.hyperparameters.HyperParameters at 0x19892c375e0>"
      ]
     },
     "execution_count": 29,
     "metadata": {},
     "output_type": "execute_result"
    }
   ],
   "source": [
    "best_hyperparameters = tuner.get_best_hyperparameters(1)[0]\n",
    "best_hyperparameters"
   ]
  },
  {
   "cell_type": "code",
   "execution_count": 30,
   "id": "2d60b549",
   "metadata": {},
   "outputs": [
    {
     "name": "stdout",
     "output_type": "stream",
     "text": [
      "Epoch 1/15\n",
      "143/143 [==============================] - 57s 337ms/step - loss: 1.0148 - accuracy: 0.4776 - f1: 1.6319 - val_loss: 1.0365 - val_accuracy: 0.4594 - val_f1: 1.7414\n",
      "Epoch 2/15\n",
      "143/143 [==============================] - 46s 324ms/step - loss: 1.0124 - accuracy: 0.4868 - f1: 1.5885 - val_loss: 1.0351 - val_accuracy: 0.4680 - val_f1: 1.9545\n",
      "Epoch 3/15\n",
      "143/143 [==============================] - 47s 327ms/step - loss: 1.0119 - accuracy: 0.4859 - f1: 1.6419 - val_loss: 1.0407 - val_accuracy: 0.4779 - val_f1: 1.5509\n",
      "Epoch 4/15\n",
      "143/143 [==============================] - 47s 332ms/step - loss: 1.0088 - accuracy: 0.4883 - f1: 1.5803 - val_loss: 1.0410 - val_accuracy: 0.4686 - val_f1: 1.5110\n",
      "Epoch 5/15\n",
      "143/143 [==============================] - 47s 331ms/step - loss: 1.0026 - accuracy: 0.4938 - f1: 1.5731 - val_loss: 1.0362 - val_accuracy: 0.4607 - val_f1: 1.7209\n",
      "Epoch 6/15\n",
      "143/143 [==============================] - 47s 332ms/step - loss: 0.9986 - accuracy: 0.4974 - f1: 1.5459 - val_loss: 1.0519 - val_accuracy: 0.4568 - val_f1: 1.6599\n",
      "Epoch 7/15\n",
      "143/143 [==============================] - 47s 332ms/step - loss: 0.9969 - accuracy: 0.4924 - f1: 1.5250 - val_loss: 1.0587 - val_accuracy: 0.4413 - val_f1: 1.5557\n",
      "Epoch 8/15\n",
      "143/143 [==============================] - 47s 330ms/step - loss: 1.0031 - accuracy: 0.4898 - f1: 1.6267 - val_loss: 1.0606 - val_accuracy: 0.4581 - val_f1: 1.4038\n",
      "Epoch 9/15\n",
      "143/143 [==============================] - 47s 331ms/step - loss: 0.9947 - accuracy: 0.4953 - f1: 1.5530 - val_loss: 1.0470 - val_accuracy: 0.4568 - val_f1: 1.6909\n",
      "Epoch 10/15\n",
      "143/143 [==============================] - 47s 329ms/step - loss: 0.9856 - accuracy: 0.5090 - f1: 1.5049 - val_loss: 1.0603 - val_accuracy: 0.4284 - val_f1: 1.6894\n",
      "Epoch 11/15\n",
      "143/143 [==============================] - 53s 373ms/step - loss: 0.9935 - accuracy: 0.4932 - f1: 1.5290 - val_loss: 1.0452 - val_accuracy: 0.4548 - val_f1: 1.6103\n",
      "Epoch 12/15\n",
      "143/143 [==============================] - 70s 493ms/step - loss: 0.9902 - accuracy: 0.5076 - f1: 1.5441 - val_loss: 1.0599 - val_accuracy: 0.4531 - val_f1: 1.4577\n",
      "Epoch 13/15\n",
      "143/143 [==============================] - 68s 476ms/step - loss: 0.9786 - accuracy: 0.5117 - f1: 1.4635 - val_loss: 1.0434 - val_accuracy: 0.4578 - val_f1: 1.6572\n",
      "Epoch 14/15\n",
      "143/143 [==============================] - 69s 482ms/step - loss: 0.9708 - accuracy: 0.5204 - f1: 1.4449 - val_loss: 1.0517 - val_accuracy: 0.4538 - val_f1: 1.5121\n",
      "Epoch 15/15\n",
      "143/143 [==============================] - 68s 476ms/step - loss: 0.9725 - accuracy: 0.5197 - f1: 1.4571 - val_loss: 1.0512 - val_accuracy: 0.4446 - val_f1: 1.5825\n"
     ]
    },
    {
     "data": {
      "text/plain": [
       "<keras.callbacks.History at 0x1985a9c9360>"
      ]
     },
     "execution_count": 30,
     "metadata": {},
     "output_type": "execute_result"
    }
   ],
   "source": [
    "best_model.fit(train_input,\n",
    "            train_df.label.values,\n",
    "            epochs = 15,\n",
    "            verbose = 1,\n",
    "            batch_size = 64,\n",
    "            validation_split = 0.25)"
   ]
  },
  {
   "cell_type": "code",
   "execution_count": 2,
   "id": "71d48106",
   "metadata": {},
   "outputs": [],
   "source": [
    "def pred_class(sample_premise,sample_hypothesis,tokenizer):\n",
    "    '''\n",
    "    Predicts classes for the sample input\n",
    "    '''\n",
    "    \n",
    "    global classes\n",
    "    sample_input = bert_encode(sample_premise,sample_hypothesis,tokenizer)\n",
    "    pred = model.predict(sample_input)\n",
    "    return classes[tf.argmax(pred,axis=1)]"
   ]
  }
 ],
 "metadata": {
  "kernelspec": {
   "display_name": "tf_gpu",
   "language": "python",
   "name": "tf_gpu"
  },
  "language_info": {
   "codemirror_mode": {
    "name": "ipython",
    "version": 3
   },
   "file_extension": ".py",
   "mimetype": "text/x-python",
   "name": "python",
   "nbconvert_exporter": "python",
   "pygments_lexer": "ipython3",
   "version": "3.10.4"
  }
 },
 "nbformat": 4,
 "nbformat_minor": 5
}
